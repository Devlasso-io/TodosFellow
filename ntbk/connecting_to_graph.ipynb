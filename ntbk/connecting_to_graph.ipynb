{
 "cells": [
  {
   "cell_type": "markdown",
   "id": "b1e3eaa4",
   "metadata": {},
   "source": [
    "# Connecting To The Deployment\n",
    "\n",
    "Connected to the [LangSmith](https://smith.langchain.com/) deployment of `task_maistro`.\n",
    "\n",
    "Ensure the `LANGCHAIN_API_KEY` for the LangSmith account with your deployment is set.\n"
   ]
  },
  {
   "cell_type": "code",
   "execution_count": null,
   "id": "f4de2831",
   "metadata": {},
   "outputs": [],
   "source": [
    "import os, getpass\n",
    "\n",
    "def _set_env(var: str):\n",
    "    # Check if the variable is set in the OS environment\n",
    "    env_value = os.environ.get(var)\n",
    "    if not env_value:\n",
    "        # If not set, prompt the user for input\n",
    "        env_value = getpass.getpass(f\"{var}: \")\n",
    "    \n",
    "    # Set the environment variable for the current process\n",
    "    os.environ[var] = env_value\n",
    "\n",
    "_set_env(\"LANGCHAIN_API_KEY\")"
   ]
  },
  {
   "cell_type": "markdown",
   "id": "386677ba",
   "metadata": {},
   "source": [
    "### Graph connection\n",
    "\n",
    "Let's first test that we can connect to the graph. \n",
    "\n",
    "We can find the URL of the graph in the [LangSmith](https://smith.langchain.com/) UI.\n",
    "\n",
    "We get the `url` from the deployment page. "
   ]
  },
  {
   "cell_type": "code",
   "execution_count": 29,
   "metadata": {},
   "outputs": [],
   "source": [
    "from langgraph.pregel.remote import RemoteGraph\n",
    "from langchain_core.messages import convert_to_messages\n",
    "from langchain_core.messages import HumanMessage, SystemMessage\n",
    "\n",
    "# Add your deployment URL here\n",
    "url = \"https://task-maistro-1b681add7a2b549499bb0cd21a7e5be4.default.us.langgraph.app\"\n",
    "# Graph name is from langgraph.json\n",
    "graph_name = \"task_maistro\" \n",
    "# Connect to the graph\n",
    "remote_graph = RemoteGraph(graph_name, url=url)"
   ]
  },
  {
   "cell_type": "code",
   "execution_count": 30,
   "id": "fc8102cc",
   "metadata": {},
   "outputs": [
    {
     "name": "stdout",
     "output_type": "stream",
     "text": [
      "================================\u001b[1m Human Message \u001b[0m=================================\n",
      "\n",
      "Hi I'm Lance. I live in San Francisco with my wife and have a 1 year old.\n",
      "==================================\u001b[1m Ai Message \u001b[0m==================================\n",
      "\n",
      "Hi Lance! It's great to meet you. I already have that information in my memory. How can I assist you today?\n"
     ]
    }
   ],
   "source": [
    "# Interact with the graph\n",
    "user_input = \"Hi I'm Lance. I live in San Francisco with my wife and have a 1 year old.\"\n",
    "config = {\"configurable\": {\"user_id\": \"Lance\"}}\n",
    "for chunk in remote_graph.stream({\"messages\": [HumanMessage(content=user_input)]}, stream_mode=\"values\", config=config):\n",
    "    convert_to_messages(chunk[\"messages\"])[-1].pretty_print()"
   ]
  },
  {
   "cell_type": "code",
   "execution_count": null,
   "id": "d5851ecb",
   "metadata": {},
   "outputs": [],
   "source": []
  }
 ],
 "metadata": {
  "language_info": {
   "name": "python"
  }
 },
 "nbformat": 4,
 "nbformat_minor": 2
}
